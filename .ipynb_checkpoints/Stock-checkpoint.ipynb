{
 "cells": [
  {
   "cell_type": "code",
   "execution_count": 1,
   "id": "56ac64ba",
   "metadata": {},
   "outputs": [],
   "source": [
    "import pandas as pd\n",
    "import numpy as np\n",
    "import matplotlib.pyplot as plt\n",
    "from sklearn.preprocessing import MinMaxScaler\n",
    "from keras.models import Sequential, load_model\n",
    "from keras.layers import LSTM, Dense, Dropout"
   ]
  },
  {
   "cell_type": "code",
   "execution_count": 2,
   "id": "c657561b",
   "metadata": {},
   "outputs": [
    {
     "data": {
      "text/html": [
       "<div>\n",
       "<style scoped>\n",
       "    .dataframe tbody tr th:only-of-type {\n",
       "        vertical-align: middle;\n",
       "    }\n",
       "\n",
       "    .dataframe tbody tr th {\n",
       "        vertical-align: top;\n",
       "    }\n",
       "\n",
       "    .dataframe thead th {\n",
       "        text-align: right;\n",
       "    }\n",
       "</style>\n",
       "<table border=\"1\" class=\"dataframe\">\n",
       "  <thead>\n",
       "    <tr style=\"text-align: right;\">\n",
       "      <th></th>\n",
       "      <th>Date</th>\n",
       "      <th>Open</th>\n",
       "      <th>High</th>\n",
       "      <th>Low</th>\n",
       "      <th>Close</th>\n",
       "      <th>Adj Close</th>\n",
       "      <th>Volume</th>\n",
       "    </tr>\n",
       "  </thead>\n",
       "  <tbody>\n",
       "    <tr>\n",
       "      <th>0</th>\n",
       "      <td>2010-06-29</td>\n",
       "      <td>19.000000</td>\n",
       "      <td>25.000000</td>\n",
       "      <td>17.540001</td>\n",
       "      <td>23.889999</td>\n",
       "      <td>23.889999</td>\n",
       "      <td>18766300</td>\n",
       "    </tr>\n",
       "    <tr>\n",
       "      <th>1</th>\n",
       "      <td>2010-06-30</td>\n",
       "      <td>25.790001</td>\n",
       "      <td>30.420000</td>\n",
       "      <td>23.299999</td>\n",
       "      <td>23.830000</td>\n",
       "      <td>23.830000</td>\n",
       "      <td>17187100</td>\n",
       "    </tr>\n",
       "    <tr>\n",
       "      <th>2</th>\n",
       "      <td>2010-07-01</td>\n",
       "      <td>25.000000</td>\n",
       "      <td>25.920000</td>\n",
       "      <td>20.270000</td>\n",
       "      <td>21.959999</td>\n",
       "      <td>21.959999</td>\n",
       "      <td>8218800</td>\n",
       "    </tr>\n",
       "    <tr>\n",
       "      <th>3</th>\n",
       "      <td>2010-07-02</td>\n",
       "      <td>23.000000</td>\n",
       "      <td>23.100000</td>\n",
       "      <td>18.709999</td>\n",
       "      <td>19.200001</td>\n",
       "      <td>19.200001</td>\n",
       "      <td>5139800</td>\n",
       "    </tr>\n",
       "    <tr>\n",
       "      <th>4</th>\n",
       "      <td>2010-07-06</td>\n",
       "      <td>20.000000</td>\n",
       "      <td>20.000000</td>\n",
       "      <td>15.830000</td>\n",
       "      <td>16.110001</td>\n",
       "      <td>16.110001</td>\n",
       "      <td>6866900</td>\n",
       "    </tr>\n",
       "    <tr>\n",
       "      <th>...</th>\n",
       "      <td>...</td>\n",
       "      <td>...</td>\n",
       "      <td>...</td>\n",
       "      <td>...</td>\n",
       "      <td>...</td>\n",
       "      <td>...</td>\n",
       "      <td>...</td>\n",
       "    </tr>\n",
       "    <tr>\n",
       "      <th>2411</th>\n",
       "      <td>2020-01-28</td>\n",
       "      <td>568.489990</td>\n",
       "      <td>576.809998</td>\n",
       "      <td>558.080017</td>\n",
       "      <td>566.900024</td>\n",
       "      <td>566.900024</td>\n",
       "      <td>11788500</td>\n",
       "    </tr>\n",
       "    <tr>\n",
       "      <th>2412</th>\n",
       "      <td>2020-01-29</td>\n",
       "      <td>575.690002</td>\n",
       "      <td>589.799988</td>\n",
       "      <td>567.429993</td>\n",
       "      <td>580.989990</td>\n",
       "      <td>580.989990</td>\n",
       "      <td>17801500</td>\n",
       "    </tr>\n",
       "    <tr>\n",
       "      <th>2413</th>\n",
       "      <td>2020-01-30</td>\n",
       "      <td>632.419983</td>\n",
       "      <td>650.880005</td>\n",
       "      <td>618.000000</td>\n",
       "      <td>640.809998</td>\n",
       "      <td>640.809998</td>\n",
       "      <td>29005700</td>\n",
       "    </tr>\n",
       "    <tr>\n",
       "      <th>2414</th>\n",
       "      <td>2020-01-31</td>\n",
       "      <td>640.000000</td>\n",
       "      <td>653.000000</td>\n",
       "      <td>632.520020</td>\n",
       "      <td>650.570007</td>\n",
       "      <td>650.570007</td>\n",
       "      <td>15719300</td>\n",
       "    </tr>\n",
       "    <tr>\n",
       "      <th>2415</th>\n",
       "      <td>2020-02-03</td>\n",
       "      <td>673.690002</td>\n",
       "      <td>786.140015</td>\n",
       "      <td>673.520020</td>\n",
       "      <td>780.000000</td>\n",
       "      <td>780.000000</td>\n",
       "      <td>47065000</td>\n",
       "    </tr>\n",
       "  </tbody>\n",
       "</table>\n",
       "<p>2416 rows × 7 columns</p>\n",
       "</div>"
      ],
      "text/plain": [
       "            Date        Open        High         Low       Close   Adj Close  \\\n",
       "0     2010-06-29   19.000000   25.000000   17.540001   23.889999   23.889999   \n",
       "1     2010-06-30   25.790001   30.420000   23.299999   23.830000   23.830000   \n",
       "2     2010-07-01   25.000000   25.920000   20.270000   21.959999   21.959999   \n",
       "3     2010-07-02   23.000000   23.100000   18.709999   19.200001   19.200001   \n",
       "4     2010-07-06   20.000000   20.000000   15.830000   16.110001   16.110001   \n",
       "...          ...         ...         ...         ...         ...         ...   \n",
       "2411  2020-01-28  568.489990  576.809998  558.080017  566.900024  566.900024   \n",
       "2412  2020-01-29  575.690002  589.799988  567.429993  580.989990  580.989990   \n",
       "2413  2020-01-30  632.419983  650.880005  618.000000  640.809998  640.809998   \n",
       "2414  2020-01-31  640.000000  653.000000  632.520020  650.570007  650.570007   \n",
       "2415  2020-02-03  673.690002  786.140015  673.520020  780.000000  780.000000   \n",
       "\n",
       "        Volume  \n",
       "0     18766300  \n",
       "1     17187100  \n",
       "2      8218800  \n",
       "3      5139800  \n",
       "4      6866900  \n",
       "...        ...  \n",
       "2411  11788500  \n",
       "2412  17801500  \n",
       "2413  29005700  \n",
       "2414  15719300  \n",
       "2415  47065000  \n",
       "\n",
       "[2416 rows x 7 columns]"
      ]
     },
     "execution_count": 2,
     "metadata": {},
     "output_type": "execute_result"
    }
   ],
   "source": [
    "df = pd.read_csv('TSLA.csv')\n",
    "df"
   ]
  },
  {
   "cell_type": "code",
   "execution_count": 3,
   "id": "b4631370",
   "metadata": {},
   "outputs": [
    {
     "data": {
      "text/plain": [
       "(2416, 7)"
      ]
     },
     "execution_count": 3,
     "metadata": {},
     "output_type": "execute_result"
    }
   ],
   "source": [
    "df.shape\n"
   ]
  },
  {
   "cell_type": "code",
   "execution_count": 4,
   "id": "3a370cf9",
   "metadata": {},
   "outputs": [],
   "source": [
    "df = df['Open'].values\n",
    "df = df.reshape(-1, 1)"
   ]
  },
  {
   "cell_type": "code",
   "execution_count": 5,
   "id": "fbe7559a",
   "metadata": {},
   "outputs": [
    {
     "data": {
      "text/plain": [
       "array([[ 19.      ],\n",
       "       [ 25.790001],\n",
       "       [ 25.      ],\n",
       "       ...,\n",
       "       [632.419983],\n",
       "       [640.      ],\n",
       "       [673.690002]])"
      ]
     },
     "execution_count": 5,
     "metadata": {},
     "output_type": "execute_result"
    }
   ],
   "source": [
    "df"
   ]
  },
  {
   "cell_type": "code",
   "execution_count": 6,
   "id": "d918f1de",
   "metadata": {},
   "outputs": [],
   "source": [
    "dataset_train = np.array(df[:int(df.shape[0]*0.8)])\n",
    "dataset_test = np.array(df[int(df.shape[0]*0.8):])"
   ]
  },
  {
   "cell_type": "code",
   "execution_count": 7,
   "id": "8d1ab53b",
   "metadata": {},
   "outputs": [],
   "source": [
    "scaler = MinMaxScaler(feature_range=(0,1))\n",
    "dataset_train = scaler.fit_transform(dataset_train)\n",
    "dataset_test = scaler.transform(dataset_test)"
   ]
  },
  {
   "cell_type": "code",
   "execution_count": 8,
   "id": "0372c815",
   "metadata": {},
   "outputs": [
    {
     "data": {
      "text/plain": [
       "2416"
      ]
     },
     "execution_count": 8,
     "metadata": {},
     "output_type": "execute_result"
    }
   ],
   "source": [
    "df.shape[0]"
   ]
  },
  {
   "cell_type": "code",
   "execution_count": 9,
   "id": "3ef8808e",
   "metadata": {},
   "outputs": [],
   "source": [
    "def create_dataset(df):\n",
    "    x = []\n",
    "    y = []\n",
    "    for i in range(50, df.shape[0]):\n",
    "        x.append(df[i-50:i, 0])\n",
    "        y.append(df[i, 0])\n",
    "    x = np.array(x)\n",
    "    y = np.array(y)\n",
    "    return x,y\n"
   ]
  },
  {
   "cell_type": "code",
   "execution_count": 10,
   "id": "6661732b",
   "metadata": {},
   "outputs": [],
   "source": [
    "x_train, y_train = create_dataset(dataset_train)\n",
    "x_test, y_test = create_dataset(dataset_test)"
   ]
  },
  {
   "cell_type": "code",
   "execution_count": 11,
   "id": "7d9f8a65",
   "metadata": {},
   "outputs": [],
   "source": [
    "x_train = np.reshape(x_train, (x_train.shape[0], x_train.shape[1], 1))\n",
    "x_test = np.reshape(x_test, (x_test.shape[0], x_test.shape[1], 1))\n"
   ]
  },
  {
   "cell_type": "code",
   "execution_count": 12,
   "id": "5091998d",
   "metadata": {},
   "outputs": [],
   "source": [
    "model = Sequential()\n",
    "model.add(LSTM(units=96, return_sequences=True, input_shape=(x_train.shape[1], 1)))\n",
    "model.add(Dropout(0.2))\n",
    "model.add(LSTM(units=96,return_sequences=True))\n",
    "model.add(Dropout(0.2))\n",
    "model.add(LSTM(units=96,return_sequences=True))\n",
    "model.add(Dropout(0.2))\n",
    "model.add(LSTM(units=96))\n",
    "model.add(Dropout(0.2))\n",
    "model.add(Dense(units=1))"
   ]
  },
  {
   "cell_type": "code",
   "execution_count": 13,
   "id": "6481964d",
   "metadata": {},
   "outputs": [],
   "source": [
    "x_train = np.reshape(x_train, (x_train.shape[0], x_train.shape[1], 1))\n",
    "x_test = np.reshape(x_test, (x_test.shape[0], x_test.shape[1], 1))\n"
   ]
  },
  {
   "cell_type": "code",
   "execution_count": 14,
   "id": "61d7c793",
   "metadata": {},
   "outputs": [],
   "source": [
    "model.compile(loss='mean_squared_error', optimizer='adam')\n"
   ]
  },
  {
   "cell_type": "code",
   "execution_count": 17,
   "id": "64b4114a",
   "metadata": {},
   "outputs": [
    {
     "name": "stdout",
     "output_type": "stream",
     "text": [
      "Epoch 1/50\n",
      "59/59 [==============================] - 8s 138ms/step - loss: 0.0030\n",
      "Epoch 2/50\n",
      "59/59 [==============================] - 8s 144ms/step - loss: 0.0031\n",
      "Epoch 3/50\n",
      "59/59 [==============================] - 9s 157ms/step - loss: 0.0025\n",
      "Epoch 4/50\n",
      "59/59 [==============================] - 9s 144ms/step - loss: 0.0024\n",
      "Epoch 5/50\n",
      "59/59 [==============================] - 9s 150ms/step - loss: 0.0022\n",
      "Epoch 6/50\n",
      "59/59 [==============================] - 8s 138ms/step - loss: 0.0022\n",
      "Epoch 7/50\n",
      "59/59 [==============================] - 9s 150ms/step - loss: 0.0022\n",
      "Epoch 8/50\n",
      "59/59 [==============================] - 9s 160ms/step - loss: 0.0023\n",
      "Epoch 9/50\n",
      "59/59 [==============================] - 10s 166ms/step - loss: 0.0019\n",
      "Epoch 10/50\n",
      "59/59 [==============================] - 11s 179ms/step - loss: 0.0018\n",
      "Epoch 11/50\n",
      "59/59 [==============================] - 10s 168ms/step - loss: 0.0018\n",
      "Epoch 12/50\n",
      "59/59 [==============================] - 9s 155ms/step - loss: 0.0019\n",
      "Epoch 13/50\n",
      "59/59 [==============================] - 9s 156ms/step - loss: 0.0016\n",
      "Epoch 14/50\n",
      "59/59 [==============================] - 9s 159ms/step - loss: 0.0016\n",
      "Epoch 15/50\n",
      "59/59 [==============================] - 9s 148ms/step - loss: 0.0016\n",
      "Epoch 16/50\n",
      "59/59 [==============================] - 9s 147ms/step - loss: 0.0015\n",
      "Epoch 17/50\n",
      "59/59 [==============================] - 9s 148ms/step - loss: 0.0015\n",
      "Epoch 18/50\n",
      "59/59 [==============================] - 8s 141ms/step - loss: 0.0017\n",
      "Epoch 19/50\n",
      "59/59 [==============================] - 9s 146ms/step - loss: 0.0014\n",
      "Epoch 20/50\n",
      "59/59 [==============================] - 8s 141ms/step - loss: 0.0014\n",
      "Epoch 21/50\n",
      "59/59 [==============================] - 9s 145ms/step - loss: 0.0015\n",
      "Epoch 22/50\n",
      "59/59 [==============================] - 8s 140ms/step - loss: 0.0020\n",
      "Epoch 23/50\n",
      "59/59 [==============================] - 9s 145ms/step - loss: 0.0013\n",
      "Epoch 24/50\n",
      "59/59 [==============================] - 9s 146ms/step - loss: 0.0014\n",
      "Epoch 25/50\n",
      "59/59 [==============================] - 9s 151ms/step - loss: 0.0016\n",
      "Epoch 26/50\n",
      "59/59 [==============================] - 9s 148ms/step - loss: 0.0013\n",
      "Epoch 27/50\n",
      "59/59 [==============================] - 9s 149ms/step - loss: 0.0013\n",
      "Epoch 28/50\n",
      "59/59 [==============================] - 9s 151ms/step - loss: 0.0015\n",
      "Epoch 29/50\n",
      "59/59 [==============================] - 9s 145ms/step - loss: 0.0015\n",
      "Epoch 30/50\n",
      "59/59 [==============================] - 9s 150ms/step - loss: 0.0012\n",
      "Epoch 31/50\n",
      "59/59 [==============================] - 8s 143ms/step - loss: 0.0012\n",
      "Epoch 32/50\n",
      "59/59 [==============================] - 9s 144ms/step - loss: 0.0014\n",
      "Epoch 33/50\n",
      "59/59 [==============================] - 8s 141ms/step - loss: 0.0013\n",
      "Epoch 34/50\n",
      "59/59 [==============================] - 9s 144ms/step - loss: 0.0014\n",
      "Epoch 35/50\n",
      "59/59 [==============================] - 8s 141ms/step - loss: 0.0013\n",
      "Epoch 36/50\n",
      "59/59 [==============================] - 8s 142ms/step - loss: 0.0012\n",
      "Epoch 37/50\n",
      "59/59 [==============================] - 8s 140ms/step - loss: 0.0012\n",
      "Epoch 38/50\n",
      "59/59 [==============================] - 9s 148ms/step - loss: 0.0012\n",
      "Epoch 39/50\n",
      "59/59 [==============================] - 9s 155ms/step - loss: 0.0013\n",
      "Epoch 40/50\n",
      "59/59 [==============================] - 9s 153ms/step - loss: 0.0013\n",
      "Epoch 41/50\n",
      "59/59 [==============================] - 9s 150ms/step - loss: 0.0012\n",
      "Epoch 42/50\n",
      "59/59 [==============================] - 9s 152ms/step - loss: 0.0012\n",
      "Epoch 43/50\n",
      "59/59 [==============================] - 9s 149ms/step - loss: 0.0012\n",
      "Epoch 44/50\n",
      "59/59 [==============================] - 9s 145ms/step - loss: 0.0013\n",
      "Epoch 45/50\n",
      "59/59 [==============================] - 9s 147ms/step - loss: 0.0011\n",
      "Epoch 46/50\n",
      "59/59 [==============================] - 8s 142ms/step - loss: 0.0010\n",
      "Epoch 47/50\n",
      "59/59 [==============================] - 9s 145ms/step - loss: 9.9796e-04\n",
      "Epoch 48/50\n",
      "59/59 [==============================] - 9s 145ms/step - loss: 0.0010\n",
      "Epoch 49/50\n",
      "59/59 [==============================] - 9s 145ms/step - loss: 0.0010\n",
      "Epoch 50/50\n",
      "59/59 [==============================] - 8s 142ms/step - loss: 9.7707e-04\n"
     ]
    }
   ],
   "source": [
    "model.fit(x_train, y_train, epochs=50, batch_size=32)\n",
    "model.save('stock_prediction.h5')"
   ]
  },
  {
   "cell_type": "code",
   "execution_count": 18,
   "id": "21e83d6c",
   "metadata": {},
   "outputs": [],
   "source": [
    "model = load_model('stock_prediction.h5')\n"
   ]
  },
  {
   "cell_type": "code",
   "execution_count": 19,
   "id": "991abc6f",
   "metadata": {},
   "outputs": [
    {
     "name": "stdout",
     "output_type": "stream",
     "text": [
      "14/14 [==============================] - 3s 49ms/step\n"
     ]
    },
    {
     "data": {
      "text/plain": [
       "<matplotlib.legend.Legend at 0x251d412fc10>"
      ]
     },
     "execution_count": 19,
     "metadata": {},
     "output_type": "execute_result"
    },
    {
     "data": {
      "image/png": "[encoded data removed]",
      "text/plain": [
       "<Figure size 1600x800 with 1 Axes>"
      ]
     },
     "metadata": {},
     "output_type": "display_data"
    }
   ],
   "source": [
    "predictions = model.predict(x_test)\n",
    "predictions = scaler.inverse_transform(predictions)\n",
    "y_test_scaled = scaler.inverse_transform(y_test.reshape(-1, 1))\n",
    "\n",
    "fig, ax = plt.subplots(figsize=(16,8))\n",
    "ax.set_facecolor('#000041')\n",
    "ax.plot(y_test_scaled, color='red', label='Original price')\n",
    "plt.plot(predictions, color='cyan', label='Predicted price')\n",
    "plt.legend()\n"
   ]
  }
 ],
 "metadata": {
  "kernelspec": {
   "display_name": "Python 3 (ipykernel)",
   "language": "python",
   "name": "python3"
  },
  "language_info": {
   "codemirror_mode": {
    "name": "ipython",
    "version": 3
   },
   "file_extension": ".py",
   "mimetype": "text/x-python",
   "name": "python",
   "nbconvert_exporter": "python",
   "pygments_lexer": "ipython3",
   "version": "3.10.9"
  }
 },
 "nbformat": 4,
 "nbformat_minor": 5
}
